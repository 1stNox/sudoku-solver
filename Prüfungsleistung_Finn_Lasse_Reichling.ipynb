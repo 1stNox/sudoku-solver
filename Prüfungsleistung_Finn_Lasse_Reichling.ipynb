{
  "cells": [
    {
      "cell_type": "markdown",
      "id": "4b87d9ee",
      "metadata": {
        "id": "4b87d9ee"
      },
      "source": [
        "# Projekt"
      ]
    },
    {
      "cell_type": "markdown",
      "id": "44f11039",
      "metadata": {
        "id": "44f11039"
      },
      "source": [
        "## Projekt: \n",
        "\n",
        "- Name: Reichling, Finn-Lasse\n",
        "- Matrikelnummer: 3035748\n",
        "- Thema: Lösen von Sudokus\n",
        "\n"
      ]
    },
    {
      "cell_type": "markdown",
      "id": "e63a1c5e",
      "metadata": {
        "id": "e63a1c5e"
      },
      "source": [
        "## Zeitplan: <br>\n",
        "    - Wahl des Themas: 11.02.2022\n",
        "    - Abgabe: 10.03.2022\n",
        "    - Gespräch nach Absprache: tbd"
      ]
    },
    {
      "cell_type": "markdown",
      "id": "03a293df",
      "metadata": {
        "id": "03a293df"
      },
      "source": [
        "# 1. Einleitung"
      ]
    },
    {
      "cell_type": "markdown",
      "id": "4f659bf2",
      "metadata": {
        "id": "4f659bf2"
      },
      "source": [
        "## 1.1 Problemaufriss (Vorausschau)\n",
        "\n",
        "Diese wissenschaftliche Arbeit thematisiert das Lösen von Sudokus mittels Python. Sudokus sind Zahlenrätsel. Um ein Sudoku zu lösen, müssen die Spielregeln bekannt sein. Sudokus sind Quadrate, die in insgesamt neun gleich große Abschnitte unterteilt werden. Des Weiteren weißt jeder Abschnitt neun Zellen auf. Daraus resultiert eine Menge von einundachtzig Zellen. Die Ausgangssituation wird durch eine solche Struktur beschrieben, allerdings sind einige Zellen bereits mit Zahlen aus dem Intervall von eins bis neun gefüllt. Zur Lösung des Sudokus sind die Zahlen aus dem bereits genannten Intervall für die noch leeren Zellen zu ergänzen. Dabei sind drei Regeln zum Einsetzen von Werten zu beachten. Eine Zahl darf pro Reihe nur einmal vorkommen; eine Zahl darf pro Spalte nur einmal eingesetzt werden; eine Zahl darf innerhalb eines Abschnittes nur ein einziges Mal existieren. (vgl. Sudoku Rules for Complete Beginners | Play Free Sudoku, a Popular Online Puzzle Game o. D.)\n",
        "\n",
        "Welche Schwierigkeiten resultieren aus den genannten Rahmenbedingungen?\n",
        "\n",
        "Jedes Sudoku ist zunächst einzulesen. In diesem Fall werden zum Einlesen der Sudokus Bilder verwendet. Das eingelesene Bild muss so verarbeitet werden, dass die leeren und die bereits ausgefüllten Zellen erkannt werden. Das Sudoku muss dann unter Berücksichtigung der Regeln gelöst werden. Die Lösung gilt es dann einzusetzen."
      ]
    },
    {
      "cell_type": "markdown",
      "id": "dfe00a3d",
      "metadata": {
        "id": "dfe00a3d"
      },
      "source": [
        "##1.2 Ziele (Vorausschau)\n",
        "Die Ziele ergeben sich aus den Zwischenschritten des Prozessablaufs zur Lösung von Sudokus unter Verwendung von Python. Das heißt, dass diese sowohl im Zusammenhang mit der Methode, als auch mit dem Problemaufriss stehen. Ein erster Meilenstein ist das Einlesen der Sudokus. Als nächstes Ziel ist die korrekte Vorverarbeitung des Bilds zu nennen. Ist das Bild vorverarbeitet, ist die Konvertierung des Sudokus in eine neun mal neun Matrix möglich. Diese Matrix gilt es dann zu lösen. Anschließend ist die Lösung dementsprechend auf das zuvor eingelesene Bild anzuwenden.\n",
        "\n",
        "Daraus ergeben sich zusammengefasst fünf Ziele:\n",
        "\n",
        "\n",
        "*   Einlesen eines Sudokus in Bildform\n",
        "*   Vorverarbeitung\n",
        "*   Konvertierung in eine Matrix\n",
        "*   Lösen der Matrix\n",
        "*   Ausgabe des gelösten Sudokus in Bildform\n",
        "\n",
        "\n",
        "\n"
      ]
    },
    {
      "cell_type": "markdown",
      "id": "9ad866dd",
      "metadata": {
        "id": "9ad866dd"
      },
      "source": [
        "## 1.3 Methode (Vorausschau)\n",
        "Die Problemstellung wird mit einer Kombination aus verschiedenen Methoden gelöst. Zur Erkennung der bereits eingesetzten Ziffern wird ein neuronales Netzwerk verwendet, welches mit Hilfe des MNIST Datensatzes von dem Python Package Keras bereitgestellt wird (vgl. Adewumi 2021). Zur Lösung des konkreten Sudokus wird der Backtracking Algorithmus angewendet (vgl. Adewumi 2021).\n",
        "\n",
        "![nn.webp.jpg](data:image/jpeg;base64,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)\n",
        "\n",
        "*Abbildung 1: Artificial Neural Networks*\n",
        "\n",
        "*Quelle: (Daityari 2021)*\n",
        "\n",
        "Neuronale Netze sind mathematische Modelle, die eine Menge an Eingaben zu einer anderen Menge umwandeln (vgl. Daityari 2021). Dabei wird der Input mittels einer Anzahl an nicht sichtbaren Schichten weiterverarbeitet (vgl. Daityari 2021). Jedes neuronale Netzwerk hat mindestens eine versteckte Schicht zur Verarbeitung des Inputs (vgl. Daityari 2021). Bei einer mehrschichtigen Struktur innerhalb der versteckten Schichten verwendet jede Schicht die vorangegangenen Schichten als Eingabe (vgl. Daityari 2021). Abbildung 1 verdeutlicht dies grafisch und reduziert somit den Grad an Abstraktheit. Hierbei wurde ein neuronales Netzwerk als Graph angedeutet. Jeder Knoten stellt eine Menge oder eine Schicht dar. Durch Gewichtung der Knoten ist das Modell fähig, die verschiedenen Verarbeitungsschritte unterschiedlich stark zu berücksichtigen und damit die Realität besser abzubilden (vgl. Daityari 2021).\n",
        "\n",
        "Dahingegen bezeichnet der Backtracking Algorithmus ein rekursives Vorgehen, bei dem alle möglichen Pfade auf dem Weg zur Lösung bestritten werden. Erreicht der Algorithmus ein Blatt, also einen Endknoten des jeweiligen Pfades, und das Problem ist nicht gelöst, werden vorangegangene Möglichkeiten überprüft, die noch ausstehen. Sind alle Pfade überprüft und keine Lösung ist vorhanden, existiert keine. (vgl. Daityari 2021)"
      ]
    },
    {
      "cell_type": "markdown",
      "id": "c53bc90b",
      "metadata": {
        "id": "c53bc90b"
      },
      "source": [
        "##1.4 Aufbau des Dokuments\n",
        "Die wissenschaftliche Arbeit setzt sich aus einer Dokumentation, einer Implementierung sowie die dafür benötigten Assets zusammen. Des Weiteren ist der Output der Implementierung angehangen."
      ]
    },
    {
      "cell_type": "code",
      "source": [],
      "metadata": {
        "id": "sBHD6r5q93kY"
      },
      "id": "sBHD6r5q93kY",
      "execution_count": null,
      "outputs": []
    },
    {
      "cell_type": "markdown",
      "id": "5580f692",
      "metadata": {
        "id": "5580f692"
      },
      "source": [
        "# 2. Sachstand"
      ]
    },
    {
      "cell_type": "markdown",
      "id": "02d09441",
      "metadata": {
        "id": "02d09441"
      },
      "source": [
        "##2.1 Sachstandserhebung im Anwendungsgebiet\n",
        "Der Einsatz von künstlicher Intelligenz zur Lösung von Sudokus ist ausgereizt. Dies liegt daran, dass die Lösung des Rätsels nicht mittels künstlicher Intelligenz erwirkt wird, sondern lediglich die Vorhersage von Zahlen auf einem Bild tatsächlich mittels Anwendung von künstlicher Intelligenz erfolgt.\n",
        "\n",
        "Allerdings ist die Vorhersage von Formen, Objekten oder Zeichen auf Bildern ein breites Forschungsfeld, welches in verschiedensten Bereichen Anwendung findet. Künstliche Intelligenz ermöglicht die Klassifizierung von Bildelementen; in dem Fall der Sudokus sind dies die Zahlen. Allerdings ist diese Methodik auf alle möglichen Elemente zu übertragen, so wird im E-Commerce die Verwendung von künstlicher Intelligenz zur Klassifizierung der Produkte erforscht (vgl. Automatisierte Bilderkennung: So erleichtert KI die Klassifizierung von Produkten o. D.)."
      ]
    },
    {
      "cell_type": "markdown",
      "id": "630a0cad",
      "metadata": {
        "id": "630a0cad"
      },
      "source": [
        "## 2.2 Sachstandserhebung im Methodengebiet\n",
        "Im Folgenden wird der aktuelle Forschungsstand im Bereich der Bilderkennung thematisiert.\n",
        "\n",
        "Bilderkennung findet heutig in vielen Bereichen Anwendung. So zählen E-Commerce, Medizin, Zellbiologie oder auch Gesichtserkennung zu den Anwendungsgebieten der Bilderkennung mittels künstlicher Intelligenz (vgl. Osterkamp 2021). Zur Erkennung der gewünschten Formen oder Objekte werden neuronale Netze verwendet (vgl. Osterkamp 2021). Die automatische Bilderkennung ist im Forschungsbereich des Deep Learnings zu verzeichnen (vgl. Osterkamp 2021). Deep Learning bezeichnet ein Teilgebiet des maschinellen Lernens (vgl. Education 2021). Dabei werden neuronale Netze mit mindestens drei oder mehr Schichten verwendet (vgl. Education 2021). Deep Learning eignet sich deshalb gut zur Arbeit mit großen Mengen an Daten (vgl. Education 2021). Die zugrundeliegende Recherche weist keine neueren Vorgehensweisen hinsichtlich der Bilderkennung mittels künstlicher Intelligenz auf. Allerdings gilt es anzumerken, dass diese Methode zwar gut ist, aber noch lange nicht perfekt (vgl. Daityari 2021). Auch hier gibt es verschiedene Situationen, wobei die Klassifizierung der gewünschten Objekte nicht richtig ist."
      ]
    },
    {
      "cell_type": "markdown",
      "id": "6d76db41",
      "metadata": {
        "id": "6d76db41"
      },
      "source": [
        "# 3. Methode"
      ]
    },
    {
      "cell_type": "markdown",
      "id": "096872ad",
      "metadata": {
        "id": "096872ad"
      },
      "source": [
        "## 3.1 Problemaufriss"
      ]
    },
    {
      "cell_type": "markdown",
      "id": "cdb510f6",
      "metadata": {
        "id": "cdb510f6"
      },
      "source": [
        "###3.1.1 Problembeschreibung\n",
        "Die größte Schwierigkeit des Vorhabens ist die korrekte Prognose der bereits vorausgefüllten Zellen eines Sudokus. Wenn diese nicht richtig erkannt werden, ist es möglich, dass die Regeln zum Lösen eines Sudokus bereits verletzt werden oder das Sudoku aufgrund der falsch vorhergesagten Werte nicht mehr lösbar ist. Ein weiteres Problem ist das Erkennen des Sudokus per se. Wird ein Bild als Input hinterlegt, welches nicht nur das Sudoku beinhaltet, sondern beispielsweise einen Tisch mit Stiften, ist es notwendig, dass ein Algorithmus den Input auf das Sudoku reduziert und einen Top-Down View erzeugt, damit die Begrenzungen der Zellen eindeutig sind."
      ]
    },
    {
      "cell_type": "markdown",
      "id": "2947db28",
      "metadata": {
        "id": "2947db28"
      },
      "source": [
        "###3.1.2  Requirement Analysis\n",
        "Aus der Kernproblematik ergeben sich drei dringende Notwendigkeiten. Der Input, also das Bild eines Sudokus, muss möglichst eindeutig sein. Konkret bedeutet dies, dass die Bilder nicht unscharf oder verzogen sein sollten. Das neuronale Netzwerk muss möglichst genau sein und einen niedrigen Loss aufweisen. Außerdem ist das Anwenden verschiedener Vorverarbeitungsschritte notwendig, damit jedes hinreichend gute Bild eines Sudokus gelöst werden kann, unabhängig von der Lage des Sudokus (liegt bspw. schräg).\n",
        "Daraus folgen die Requirements:\n",
        "\n",
        "*   Neuronales Netz zum Vorhersagen von handgeschriebenen Zahlen auf Bildern\n",
        "*   Lösungsstrategie für Sudokus\n",
        "*   Methode zum Konvertieren der Bilder, sodass das Sudoku in einem Top-Down View vorliegt"
      ]
    },
    {
      "cell_type": "markdown",
      "id": "888dbd13",
      "metadata": {
        "id": "888dbd13"
      },
      "source": [
        "## 3.2 Ziele"
      ]
    },
    {
      "cell_type": "markdown",
      "id": "ce4a2976",
      "metadata": {
        "id": "ce4a2976"
      },
      "source": [
        "###3.2.1 Zieldefinition\n",
        "Das finale Ziel des Projekts ist es, ein ungelöstes Sudoku in Bildform einzulesen und dasselbe gelöst als Bild auszugeben."
      ]
    },
    {
      "cell_type": "markdown",
      "id": "8e59c6ff",
      "metadata": {
        "id": "8e59c6ff"
      },
      "source": [
        "## 3.3. Methodenbeschreibung"
      ]
    },
    {
      "cell_type": "markdown",
      "id": "c8c78b59",
      "metadata": {
        "id": "c8c78b59"
      },
      "source": [
        "###3.3.1 Datenmodellierung\n",
        "Die Datenmodellierung erfolgt mittels des von Keras bereitgestellten Datensatzes zum Trainieren eines neuronalen Netzwerks und der Erkennung von handgeschriebenen Zahlen. Das MNIST Dataset beinhaltet sechzigtausend Datensätze zum Trainieren des Modells und zehntausend zum Testen des neuronalen Netzwerks (vgl. Daityari 2021)."
      ]
    },
    {
      "cell_type": "markdown",
      "id": "cdd48ce9",
      "metadata": {
        "id": "cdd48ce9"
      },
      "source": [
        "###3.3.2 Datenvorverarbeitung\n",
        "Die Datenvorverarbeitung besteht aus verschiedenen Prozessen. Zunächst muss das Bild eingelesen werden (vgl. Adewumi 2021). Dabei wird das jeweilige Bild direkt in ein Graustufenschema konvertiert (vgl. Adewumi 2021). Um mögliche Fehlerquellen zu reduzieren, wird der Gaussian Filter angewendet (vgl. Adewumi 2021). Da die Bilder in unterschiedlichen Auflösungen eingelesen werden, ist es notwendig diese auf einem Intervall zwischen hundertachtzig bis zweihundertfünfzig Pixel zu skalieren (vgl. Adewumi 2021). Das Intervall bildet die unterstütze Bildgröße für die folgenden Schritte ab (vgl. Adewumi 2021). Da zur Vorhersage der jeweiligen Werte einer Zelle klar definiert sein muss, wo eine Zelle beginnt und aufhört, ist es sinnvoll eine Hough Transformation durchzuführen. Die Hough Transformation überführt das Graustufenbild in eine Form mit dickeren, farblich deutlich abgehobenen Linien, sodass die Konturen deutlich erkennbar sind (vgl. Adewumi 2021). Zur Lösung des bereits genannten Perspektivproblems erfolgt eine Vierpunkte Transformation (vgl. Adewumi 2021). Die Vierpunkte Transformation dient zur Erzeugung eines Top-Down Views (vgl. Adewumi 2021), das heißt jedes eingelesene Bild liegt nach der Formation aus der Vogelperspektive vor."
      ]
    },
    {
      "cell_type": "markdown",
      "id": "4c4f06ee",
      "metadata": {
        "id": "4c4f06ee"
      },
      "source": [
        "### 3.3.3 Methodenplanung"
      ]
    },
    {
      "cell_type": "markdown",
      "id": "a9d5e392",
      "metadata": {
        "id": "a9d5e392"
      },
      "source": [
        "####3.3.3.1 Methodenplanung: NN\n",
        "Das hier angewendete neuronale Netz wird mit Hilfe des MNIST Datensatzes zur Identifizierung von handgeschriebenen Zahlen entwickelt. Zunächst muss der von Keras bereitgestellte Datensatz geladen werden (vgl. Daityari 2021). Damit die Daten genutzt werden können, müssen diese zunächst bereinigt werden (vgl. Daityari 2021). Die Schnittstelle von Keras ermöglicht nur die Arbeit mit Bildern im Format von M x N x 1 (vgl. Daityari 2021). Um die umgeformten Daten zu normalisieren, gilt es diese durch zweihundertfünfundfünfzig zu teilen. Dieser Wert bildet das Maximum der RGB Skala ab, daher wird dieser angewendet (vgl. Daityari 2021). Zum Schluss wird der Trainings- und Testdatensatz in eine binär Klassen Matrix transformiert (vgl. Daityari 2021). Mit diesem Stand ist es möglich, das tatsächliche Modell zu entwickeln. Dafür wird ein Modell zunächst initialisiert (vgl. Daityari 2021). Dem Modell werden vier Schichten hinzugefügt. Dabei handelt es sich bei der ersten Schicht des neuronalen Netzes um eine, die den entsprechenden Input entgegennimmt. Die zweite Schicht ähnelt der ersten, sie verwertet den Input weiter, allerdings ist diese Schicht mit der doppelten Anzahl an Filtern angelegt. Im Anschluss wird der jeweilige Stand mit Hilfe der dritten und vierten Schicht geflacht und kompensiert. Das heißt, die Daten werden zu einem eindimensionalen Array konvertiert und im Anschluss kategorisiert (vgl. Daityari 2021). Das neuronale Netz wird nach der Gestaltung mit dem entsprechenden Trainings- und Testdatensatz trainiert (vgl. Daityari 2021)."
      ]
    },
    {
      "cell_type": "markdown",
      "source": [
        "####3.3.3.2 Methodenplanung: Backtracking\n",
        "\n",
        "Der Backtracking Algorithmus wurde in einem vorangegangenen Kapitel bereits allgemein formuliert. Nun erfolgt die spezifische Formulierung für den Anwendungsfall zum Lösen von Sudokus. Dazu werden zunächst zwei sogenannte Helper Funktionen benötigt (vgl. Computerphile/Altenkirch 2020). Eine Funktion überprüft, ob eine Zahl an Stelle X, Y einsetzbar ist (vgl. Computerphile/Altenkirch 2020). Die andere Funktion überprüft, ob die Matrix des Sudokus noch Zellen mit dem Wert null beinhaltet. Diese Funktion wird benötigt, um eine globale Variable auf die tatsächlich gelöste Matrix zu setzen, denn durch die Rekursion ist die zuletzt zurückgegebene Matrix nie die gelöste Matrix. Sind diese Funktionen gegeben, ist es möglich eine Funktion zur Lösung des Sudokus zu definieren. Diese Funktion durchläuft die Matrix an jeder Stelle (vgl. Computerphile/Altenkirch 2020). Weist die Zelle an der jeweiligen Stelle eine Null als Wert auf, so wird mit Hilfe der Helper Function überprüft, ob eine Zahl von eins bis einschließlich neun eingesetzt werden kann (vgl. Computerphile/Altenkirch 2020). Ist dies möglich, wird die entsprechende Zahl an der Stelle der Matrix gesetzt (vgl. Computerphile/Altenkirch 2020). Die Funktion zum Lösen des Sudokus wird erneut aufgerufen, sodass nun die nächste Zelle mit dem Wert null gesucht und gefüllt wird. Ist das Befüllen einer Zelle aufgrund der Spielregeln nicht möglich, wird aufgrund der Rekursion ein Schritt in der Schleife zurück gegangen. Dort wird überprüft, ob die Matrix noch Zellen mit dem Wert null beinhaltet. Ist dies nicht der Fall wird die Funktion returned. Beinhaltet die Matrix noch Zellen mit dem Wert null, wird an der Stelle, wo zuvor ein Wert eingesetzt wurde, dieser wieder durch den Wert null ersetzt, sodass eine neue Lösung des Sudokus untersucht werden kann (vgl. Computerphile/Altenkirch 2020). Am Beispiel folgender Situation ist dies zu verdeutlichen. Die Zelle an der Stelle X gleich drei und Y gleich drei ist leer. Sie kann mit den Zahlen drei, fünf und sieben gefüllt werden. Zunächst wird die Zelle mit der Zahl drei gefüllt. Allerdings stellt sich später heraus, dass aufgrund dieser Zelle, die Zelle X gleich drei und Y gleich acht nicht gelöst werden kann. Nun ist es erforderlich die Zelle X gleich drei und Y gleich drei wieder mit einem anderen möglichen Wert zu befüllen.\n"
      ],
      "metadata": {
        "id": "9k3UwMA57O9a"
      },
      "id": "9k3UwMA57O9a"
    },
    {
      "cell_type": "markdown",
      "source": [
        "###3.3.4 Datennachbearbeitung\n",
        "Im Anschluss an die Lösung des Sudokus bleibt der Schritt der Ausgabe zu bewerkstelligen. Das ungelöste Bild des Sudokus soll so bearbeitet werden, dass die leeren Zellen mit den Werten des gelösten Sudokus beschriftet werden und das entsprechende Bild gespeichert wird. Dafür muss jede Zelle des Sudokus erkannt werden, andernfalls ist das Einsetzen der Zahlen nicht möglich. Dies ist aufgrund der starken Konturen gut möglich. Die Zellen werden mit Hilfe der Bildgröße berechnet und dann anhand der Konturen ausgelesen und zurückgegeben (vgl. Daityari 2021). Diese Position wird genutzt, um an der entsprechenden Zelle mit der Stelle X und Y den gelösten Wert einzusetzen (vgl. Daityari 2021)."
      ],
      "metadata": {
        "id": "hykuwm5r7YZq"
      },
      "id": "hykuwm5r7YZq"
    },
    {
      "cell_type": "markdown",
      "id": "3348bc2f",
      "metadata": {
        "id": "3348bc2f"
      },
      "source": [
        "# 4. Implementierung"
      ]
    },
    {
      "cell_type": "markdown",
      "id": "7583cec4",
      "metadata": {
        "id": "7583cec4"
      },
      "source": [
        "##4.1 Datenmodellierung"
      ]
    },
    {
      "cell_type": "code",
      "source": [
        "\"\"\"\n",
        "Mounting des jeweils persönlichen Google Drives.\n",
        "Damit ist das sitzungsübergreifende Verwenden der benötigten Dateien möglich.\n",
        "Bietet sich bei der Nutzung von Google Colab an.\n",
        "\"\"\"\n",
        "\n",
        "from google.colab import drive\n",
        "drive.mount('/content/drive')\n",
        "\n",
        "\"\"\"\n",
        "Weitere Datenmodellierung entfällt durch die Nutzung des MNIST Datasets.\n",
        "Das Dataset wird zu einem späteren Zeitpunkt geladen, da es dort konkret\n",
        "benötigt wird.\n",
        "\"\"\""
      ],
      "metadata": {
        "colab": {
          "base_uri": "https://localhost:8080/",
          "height": 54
        },
        "id": "5b86nojlLJQf",
        "outputId": "4868e43c-703e-4af0-b0a5-98ed30750806"
      },
      "id": "5b86nojlLJQf",
      "execution_count": null,
      "outputs": [
        {
          "output_type": "stream",
          "name": "stdout",
          "text": [
            "Mounted at /content/drive\n"
          ]
        },
        {
          "output_type": "execute_result",
          "data": {
            "application/vnd.google.colaboratory.intrinsic+json": {
              "type": "string"
            },
            "text/plain": [
              "'\\nWeitere Datenmodellierung entfällt durch die Nutzung des MNIST Datasets.\\nDas Dataset wird zu einem späteren Zeitpunkt geladen, da es dort konkret\\nbenötigt wird.\\n'"
            ]
          },
          "metadata": {},
          "execution_count": 1
        }
      ]
    },
    {
      "cell_type": "markdown",
      "id": "34914995",
      "metadata": {
        "id": "34914995"
      },
      "source": [
        "##4.2 Datenvorverarbeitung"
      ]
    },
    {
      "cell_type": "code",
      "source": [
        "import cv2\n",
        "import matplotlib.pyplot as plt\n",
        "import numpy as np\n",
        "\n",
        "# Einlesen des Sudoku Bildes.\n",
        "# Durch Änderungen am Pfad kann ein anderes Sudoku eingelesen werden.\n",
        "img = cv2.imread('/content/drive/MyDrive/Colab/FSP/data/sudoku-02.png')\n",
        "# Konvertierung des eingelesen Bildes zu einem Graustufenbild.\n",
        "gray = cv2.cvtColor(img, cv2.COLOR_BGR2GRAY)\n",
        "\n",
        "# Das Graustufenbild zum Anzeigen vormerken.\n",
        "plt.imshow(gray, cmap='gray')\n",
        "# Vorgemerkte Grafiken anzeigen.\n",
        "plt.show()"
      ],
      "metadata": {
        "id": "ewawzOJkIz20",
        "colab": {
          "base_uri": "https://localhost:8080/",
          "height": 269
        },
        "outputId": "35c05fc0-c35f-446f-8ce6-76db1eea2bfe"
      },
      "id": "ewawzOJkIz20",
      "execution_count": null,
      "outputs": [
        {
          "output_type": "display_data",
          "data": {
            "image/png": "[encoded data removed]",
            "text/plain": [
              "<Figure size 432x288 with 1 Axes>"
            ]
          },
          "metadata": {
            "needs_background": "light"
          }
        }
      ]
    },
    {
      "cell_type": "code",
      "source": [
        "# Anwenden des Gaussian Filters zur Reduzierung der Hintergrund Störungen.\n",
        "dst = cv2.GaussianBlur(gray, (1, 1), cv2.BORDER_DEFAULT)"
      ],
      "metadata": {
        "id": "B0AcRef3MnTu"
      },
      "id": "B0AcRef3MnTu",
      "execution_count": null,
      "outputs": []
    },
    {
      "cell_type": "code",
      "source": [
        "# Konvertierung des Bildes mit einem Threshold von 180 bis 250.\n",
        "# Dieser Intervall bildet die unterstütze Größe von Bildern des Keras Packages ab.\n",
        "ret,thresh_inv = cv2.threshold(gray, 180, 255,cv2.THRESH_BINARY_INV)\n",
        "# Das konvertierte Bild zum Anzeigen vormerken.\n",
        "plt.imshow(thresh_inv,cmap='gray')\n",
        "# Die neu vorgemerkten Grafiken anzeigen.\n",
        "plt.show()"
      ],
      "metadata": {
        "colab": {
          "base_uri": "https://localhost:8080/",
          "height": 269
        },
        "id": "87Q0Pu6ANx3g",
        "outputId": "10da547f-3137-4960-cc0b-f354e76673ea"
      },
      "id": "87Q0Pu6ANx3g",
      "execution_count": null,
      "outputs": [
        {
          "output_type": "display_data",
          "data": {
            "image/png": "[encoded data removed]",
            "text/plain": [
              "<Figure size 432x288 with 1 Axes>"
            ]
          },
          "metadata": {
            "needs_background": "light"
          }
        }
      ]
    },
    {
      "cell_type": "code",
      "source": [
        "# Definierung der Funktion zur Transformation eines Bildes mit der Hough Transformation.\n",
        "def prob_hough_transform_util(thresh_inv, img):\n",
        "    # Anwenden der probabilistischen Hough Transformation auf das binäre Bild.\n",
        "    min_line_length = 100\n",
        "    max_line_gap = 60\n",
        "    lines = cv2.HoughLinesP(thresh_inv, 1, np.pi / 180, 100, minLineLength=100, \n",
        "                            maxLineGap=10)\n",
        "    for l in lines:\n",
        "        x1, y1, x2, y2 = l[0]\n",
        "        cv2.line(img, (x1, y1), (x2, y2), (0, 255, 0), 2, cv2.LINE_AA)\n",
        "    cv2.imwrite('/content/drive/MyDrive/Colab/FSP/output/hough.jpg', img)\n",
        "\n",
        "    # Anwenden der verstärkten Konturen\n",
        "    # Einlesen des Graustufenbildes\n",
        "    img_hough = cv2.imread('/content/drive/MyDrive/Colab/FSP/output/hough.jpg', \n",
        "                           0)  \n",
        "    contours, hierarchy = cv2.findContours(img_hough, cv2.RETR_TREE, \n",
        "                                           cv2.CHAIN_APPROX_NONE)\n",
        "\n",
        "    # Finden der größten Flächen\n",
        "    cnt = contours[0]\n",
        "    max_area = cv2.contourArea(cnt)\n",
        "\n",
        "    for cont in contours:\n",
        "        if cv2.contourArea(cont) > max_area:\n",
        "            cnt = cont\n",
        "            max_area = cv2.contourArea(cont)\n",
        "    epsilon = 0.01 * cv2.arcLength(cnt, True)\n",
        "    poly_approx = cv2.approxPolyDP(cnt, epsilon, True)\n",
        "    return poly_approx"
      ],
      "metadata": {
        "id": "V9NS-iTiOwZ_"
      },
      "id": "V9NS-iTiOwZ_",
      "execution_count": null,
      "outputs": []
    },
    {
      "cell_type": "code",
      "source": [
        "\"\"\"\n",
        "Definierung von Funktionen, die benötigt werden, \n",
        "um einen Top-Down View zu erzeugen.\n",
        "\"\"\"\n",
        "\n",
        "# Funktion zum Sortieren der Punkte\n",
        "def order_points(pts):\n",
        "    # Initialisierung einer Liste mit Koordinaten, die zu sortieren sind.\n",
        "    \"\"\" \n",
        "    Die Sortierung ist nach dem Prinzip zu berwerkstelligen, \n",
        "    dass der erste Eintrag in der Liste der Koordinate oben links entspricht.\n",
        "    Der zweite soll die Koordinate oben rechts sein,\n",
        "    der dritte die Koordinate unten rechts, \n",
        "    der vierte die Koordinate unten links.\n",
        "    \"\"\"\n",
        "    rect = np.zeros((4, 2), dtype=\"float32\")\n",
        "\n",
        "    \"\"\"\n",
        "    Die obere linke Koordinate sollte die niedrigste Summe aufweisen.\n",
        "    Wohingegen der untere rechte Punkt die größte haben sollte.\n",
        "    \"\"\"\n",
        "    s = pts.sum(axis=1)\n",
        "    rect[0] = pts[0]\n",
        "    rect[2] = pts[2]\n",
        "\n",
        "    # Berechnung der Differenzen zwischen den Punkten\n",
        "    diff = np.diff(pts, axis=1)\n",
        "    rect[3] = pts[3]\n",
        "    rect[1] = pts[1]\n",
        "\n",
        "    # Rückgabe der sortierten Liste\n",
        "    return rect\n",
        "\n",
        "\n",
        "# Funktion zur Anwendung der Vier-Punkte Transformation -> Top-Down View\n",
        "def four_point_transform(image, pts):\n",
        "    # Erwirken einer sortierten Liste der übergebenen Punkte\n",
        "    rect = order_points(pts)\n",
        "    (tl, tr, br, bl) = rect\n",
        "\n",
        "    \"\"\"\n",
        "    Berechnen der neuen Breite des neuen Bildes.\n",
        "    Dabei ist entweder die Distanz der unteren rechten und unteren linken Ecke\n",
        "    als neue Breite des Bildes zu verstehen oder die Distanz der oberen linken\n",
        "    sowie oberen rechten Ecke als neue Breite aufzufassen.\n",
        "    Je nachdem, welcher Wert maximal ist, wird dieser ausgewählt.\n",
        "    \"\"\"\n",
        "    width_a = np.sqrt(((br[0] - bl[0]) ** 2) + ((br[1] - bl[1]) ** 2))\n",
        "    width_b = np.sqrt(((tr[0] - tl[0]) ** 2) + ((tr[1] - tl[1]) ** 2))\n",
        "    max_width = max(int(width_a), int(width_b))\n",
        "\n",
        "    \"\"\"\n",
        "    Dasselbe prinzip wird zur Ermittlung der Höhe angewandt.\n",
        "    Hierbei wird allerdings nicht auf der X-Achse gearbeitet, sondern auf der\n",
        "    Y-Achse.\n",
        "    \"\"\"\n",
        "    height_a = np.sqrt(((tr[0] - br[0]) ** 2) + ((tr[1] - br[1]) ** 2))\n",
        "    height_b = np.sqrt(((tl[0] - bl[0]) ** 2) + ((tl[1] - bl[1]) ** 2))\n",
        "    max_height = max(int(height_a), int(height_b))\n",
        "\n",
        "    # Erstellen einer Menge mit den Punkten zur Transformation des Bildes.\n",
        "    dst = np.array([\n",
        "        [0, 0],\n",
        "        [0, max_height - 1],\n",
        "        [max_width - 1, max_height - 1],\n",
        "        [max_width - 1, 0]], dtype=\"float32\")\n",
        "\n",
        "    # Berechnen des neuen Bildes unter Anwendung der zuvor erstellten Menge.\n",
        "    M = cv2.getPerspectiveTransform(rect, dst)\n",
        "    warped = cv2.warpPerspective(image, M, (max_width, max_height))\n",
        "\n",
        "    # Rückgabe des transformierten Bildes.\n",
        "    return warped"
      ],
      "metadata": {
        "id": "EHMBg0QJPV_P"
      },
      "id": "EHMBg0QJPV_P",
      "execution_count": null,
      "outputs": []
    },
    {
      "cell_type": "code",
      "source": [
        "# Anwenden der Hough Transformation.\n",
        "poly_approx = prob_hough_transform_util(thresh_inv, img)\n",
        "# Anwenden des Top-Down Views (Vogelperspektive).\n",
        "img_pt = four_point_transform(thresh_inv, poly_approx)\n",
        "\n",
        "# Transformiertes Bild zum Anzeigen vormerken.\n",
        "plt.imshow(img_pt)\n",
        "# Neu vorgemerkte Bilder anzeigen.\n",
        "plt.show"
      ],
      "metadata": {
        "id": "-JmOCgLhQGdY",
        "colab": {
          "base_uri": "https://localhost:8080/",
          "height": 287
        },
        "outputId": "045ff3e8-ec0d-4a09-f157-ce7cbd007f46"
      },
      "id": "-JmOCgLhQGdY",
      "execution_count": null,
      "outputs": [
        {
          "output_type": "execute_result",
          "data": {
            "text/plain": [
              "<function matplotlib.pyplot.show>"
            ]
          },
          "metadata": {},
          "execution_count": 7
        },
        {
          "output_type": "display_data",
          "data": {
            "image/png": "[encoded data removed]",
            "text/plain": [
              "<Figure size 432x288 with 1 Axes>"
            ]
          },
          "metadata": {
            "needs_background": "light"
          }
        }
      ]
    },
    {
      "cell_type": "markdown",
      "id": "49c3abca",
      "metadata": {
        "id": "49c3abca"
      },
      "source": [
        "## 4.3 Methodenumsetzung"
      ]
    },
    {
      "cell_type": "markdown",
      "source": [
        "### 4.3.1 Neuronales Netz"
      ],
      "metadata": {
        "id": "pVQMtR7UjSki"
      },
      "id": "pVQMtR7UjSki"
    },
    {
      "cell_type": "code",
      "source": [
        "import seaborn as sns\n",
        "import keras\n",
        "\n",
        "from sklearn.model_selection import train_test_split\n",
        "from sklearn.metrics import confusion_matrix\n",
        "\n",
        "from tensorflow.keras import backend as K\n",
        "from tensorflow.keras.models import Sequential\n",
        "from tensorflow.keras.layers import Conv2D, Lambda, MaxPooling2D\n",
        "from tensorflow.keras.layers import Dense, Dropout, Flatten\n",
        "from keras.preprocessing import image\n",
        "from tensorflow.keras.layers import BatchNormalization\n",
        "from tensorflow.keras.preprocessing.image import ImageDataGenerator\n",
        "from keras.utils.np_utils import to_categorical\n",
        "from keras.datasets import mnist\n",
        "from keras.utils import np_utils\n",
        "\n",
        "# Funktion zum Trainieren des neuronalen Netzes\n",
        "def train():\n",
        "    # Laden des MNIST Datasets\n",
        "    (x_train, y_train), (x_test, y_test) = mnist.load_data()\n",
        "\n",
        "    # Bereinige die Daten.\n",
        "    x_train = x_train.reshape(60000, 28, 28, 1)\n",
        "    x_test = x_test.reshape(10000, 28, 28, 1)\n",
        "    x_train = x_train / 255\n",
        "    x_test = x_test / 255\n",
        "\n",
        "    y_train = np_utils.to_categorical(y_train)\n",
        "    y_test = np_utils.to_categorical(y_test)\n",
        "    num_classes = y_test.shape[1]\n",
        "\n",
        "    # Intialisiere das Modell.\n",
        "    model = Sequential()\n",
        "\n",
        "    # Designen des Modells mit den dazugehörigen Schichten.\n",
        "    layer_1 = Conv2D(32, kernel_size=3, activation='relu', input_shape=(28, 28, 1))\n",
        "    layer_2 = Conv2D(64, kernel_size=3, activation='relu')\n",
        "    layer_3 = Flatten()\n",
        "    layer_4 = Dense(10, activation='softmax')\n",
        "\n",
        "    # Anwenden der Schichten auf das Modell.\n",
        "    model.add(layer_1)\n",
        "    model.add(layer_2)\n",
        "    model.add(layer_3)\n",
        "    model.add(layer_4)\n",
        "\n",
        "    # Trainieren des Modells.\n",
        "    model.compile(optimizer='adam', loss='categorical_crossentropy', metrics=['accuracy'])\n",
        "    model.fit(x_train, y_train, validation_data=(x_test, y_test), epochs=10)\n",
        "\n",
        "    # Evaluierung des Modells.\n",
        "    score = model.evaluate(x_test, y_test, verbose=0)\n",
        "    print('Test loss: ', score[0])\n",
        "    print('Test accuracy: ', score[1])\n",
        "\n",
        "    # Speichern des Modells.\n",
        "    model.save('/content/drive/MyDrive/Colab/FSP/output/keras_digit_model.h5')\n",
        "\n",
        "    # Rückgabe des Modells.\n",
        "    return model\n",
        "\n",
        "\n",
        "# Anwenden des Trainierens eines neuronalen Netzes.\n",
        "model = train()"
      ],
      "metadata": {
        "colab": {
          "base_uri": "https://localhost:8080/"
        },
        "id": "vDPDZqFlSLlX",
        "outputId": "7d7e951c-60f0-40ff-c269-cd6a4b38b839"
      },
      "id": "vDPDZqFlSLlX",
      "execution_count": null,
      "outputs": [
        {
          "output_type": "stream",
          "name": "stdout",
          "text": [
            "Downloading data from https://storage.googleapis.com/tensorflow/tf-keras-datasets/mnist.npz\n",
            "11493376/11490434 [==============================] - 0s 0us/step\n",
            "11501568/11490434 [==============================] - 0s 0us/step\n",
            "Epoch 1/10\n",
            "1875/1875 [==============================] - 150s 80ms/step - loss: 0.1204 - accuracy: 0.9637 - val_loss: 0.0613 - val_accuracy: 0.9800\n",
            "Epoch 2/10\n",
            "1875/1875 [==============================] - 157s 84ms/step - loss: 0.0445 - accuracy: 0.9868 - val_loss: 0.0397 - val_accuracy: 0.9869\n",
            "Epoch 3/10\n",
            "1875/1875 [==============================] - 157s 84ms/step - loss: 0.0289 - accuracy: 0.9905 - val_loss: 0.0395 - val_accuracy: 0.9870\n",
            "Epoch 4/10\n",
            "1875/1875 [==============================] - 158s 84ms/step - loss: 0.0171 - accuracy: 0.9947 - val_loss: 0.0413 - val_accuracy: 0.9892\n",
            "Epoch 5/10\n",
            "1875/1875 [==============================] - 158s 84ms/step - loss: 0.0131 - accuracy: 0.9958 - val_loss: 0.0398 - val_accuracy: 0.9899\n",
            "Epoch 6/10\n",
            "1875/1875 [==============================] - 158s 84ms/step - loss: 0.0096 - accuracy: 0.9969 - val_loss: 0.0540 - val_accuracy: 0.9866\n",
            "Epoch 7/10\n",
            "1875/1875 [==============================] - 158s 84ms/step - loss: 0.0072 - accuracy: 0.9975 - val_loss: 0.0570 - val_accuracy: 0.9875\n",
            "Epoch 8/10\n",
            "1875/1875 [==============================] - 160s 85ms/step - loss: 0.0042 - accuracy: 0.9987 - val_loss: 0.0725 - val_accuracy: 0.9853\n",
            "Epoch 9/10\n",
            "1875/1875 [==============================] - 158s 84ms/step - loss: 0.0059 - accuracy: 0.9981 - val_loss: 0.0700 - val_accuracy: 0.9870\n",
            "Epoch 10/10\n",
            "1875/1875 [==============================] - 159s 85ms/step - loss: 0.0036 - accuracy: 0.9988 - val_loss: 0.0706 - val_accuracy: 0.9875\n",
            "Test loss:  0.07058437913656235\n",
            "Test accuracy:  0.987500011920929\n"
          ]
        }
      ]
    },
    {
      "cell_type": "code",
      "source": [
        "from tensorflow.keras.models import load_model\n",
        "import tensorflow as tf\n",
        "from PIL import Image\n",
        "import cv2\n",
        "\n",
        "\n",
        "# Laden des trainierten neuronalen Netzes.\n",
        "new_model = load_model('/content/drive/MyDrive/Colab/FSP/output/keras_digit_model.h5')\n",
        "\n",
        "\n",
        "# Funktion zum Vorhersagen der Zahlen auf einem Bild.\n",
        "def prediction(test_image):\n",
        "    classes = np.argmax(new_model.predict(test_image), axis=-1)\n",
        "\n",
        "    if classes == [[0]]:\n",
        "        return 0\n",
        "    elif classes == [[1]]:\n",
        "        return 1\n",
        "    elif classes == [[2]]:\n",
        "        return 2\n",
        "    elif classes == [[3]]:\n",
        "        return 3\n",
        "    elif classes == [[4]]:\n",
        "        return 4\n",
        "    elif classes == [[5]]:\n",
        "        return 5\n",
        "    elif classes == [[6]]:\n",
        "        return 6\n",
        "    elif classes == [[7]]:\n",
        "        return 7\n",
        "    elif classes == [[8]]:\n",
        "        return 8\n",
        "    elif classes == [[9]]:\n",
        "        return 9\n",
        "\n",
        "\n",
        "# Funktion zum Fetchen der Zellpositionen.\n",
        "def get_cell_positions(img_pt):\n",
        "    # Einlesen des transformierten Bildes.\n",
        "    img = cv2.imread('/content/drive/MyDrive/Colab/FSP/output/hough.jpg')\n",
        "\n",
        "    # Resizing des Bildes, damit das neuronale Netz damit arbeiten kann.\n",
        "    img_pt = cv2.resize(img, (252, 252))\n",
        "\n",
        "    # Berrechnung der Koordinaten jeder Zelle.\n",
        "    cell_positions = []\n",
        "\n",
        "    width = img_pt.shape[1]\n",
        "    height = img_pt.shape[0]\n",
        "\n",
        "    cell_width = width // 9\n",
        "    cell_height = height // 9\n",
        "\n",
        "    x1, x2, y1, y2 = 0, 0, 0, 0\n",
        "\n",
        "    for _ in range(9):\n",
        "        y2 = y1 + cell_height\n",
        "        x1 = 0\n",
        "        for _ in range(9):\n",
        "            x2 = x1 + cell_width\n",
        "            current_cell = [x1, x2, y1, y2]\n",
        "            cell_positions.append(current_cell)\n",
        "            x1 = x2\n",
        "        y1 = y2\n",
        "    return cell_positions\n",
        "\n",
        "\n",
        "# Funktion zum tatsächlichen Vorhersagen von Zahlen eines Sudokus.\n",
        "def predict_digit(cell, img):\n",
        "    pos = []\n",
        "    img = cv2.resize(img, (252, 252))\n",
        "    img = img[cell[2] + 2:cell[3] - 3, cell[0] + 2:cell[1] - 3]\n",
        "\n",
        "    contours, _ = cv2.findContours(img.copy(), cv2.RETR_TREE, cv2.CHAIN_APPROX_SIMPLE)\n",
        "    if len(contours) != 0:\n",
        "\n",
        "        for c in contours:\n",
        "            x, y, w, h = cv2.boundingRect(c)\n",
        "            # Ist die Kontur groß, muss eine Zahl vorliegen.\n",
        "            # Aufgrund des skalierten Bildes, muss jede Nummer mit neun verrechnet werden.\n",
        "            if (w < 15 and x > 2) and (h < 25 and y > 2):  \n",
        "                pos.append((x, y, x + w, y + h))\n",
        "                break\n",
        "    if pos == []:\n",
        "        result = 0\n",
        "    if pos: # Ausschneiden der Zelle und Vorhersage der Zahl.\n",
        "        img1 = img[(pos[0][1]):(pos[0][3]), (pos[0][0]):(pos[0][2])]\n",
        "        img1 = cv2.resize(img, (28, 28))\n",
        "        img1 = img1.reshape(1, 28, 28, 1)\n",
        "        img1 = tf.cast(img1, tf.float32)\n",
        "\n",
        "        result = prediction(img1)\n",
        "\n",
        "    # Rückgabe des Ergbnisses.\n",
        "    return result\n",
        "\n",
        "\n",
        "# Funktion zum Extrahieren von Zahlen eines Sudokus\n",
        "def extract_sudoku_digits(img_pt):\n",
        "    grid, num = [], 0\n",
        "    # Alle Zellkoordinaten herausfinden.\n",
        "    cells = get_cell_positions(img_pt)\n",
        "    for cell in range(len(cells)):\n",
        "        num = predict_digit(cells[cell], img_pt)\n",
        "        grid.append(num)\n",
        "    n = 9\n",
        "    grid = [grid[i:i + n] for i in range(0, len(grid), n)]\n",
        "\n",
        "    # Rückgabe der Sudoku Matrix\n",
        "    return grid"
      ],
      "metadata": {
        "id": "rIN3Q1fbVtXt"
      },
      "id": "rIN3Q1fbVtXt",
      "execution_count": null,
      "outputs": []
    },
    {
      "cell_type": "markdown",
      "source": [
        "### 4.3.2 Backtracking"
      ],
      "metadata": {
        "id": "o1ShusacjOmt"
      },
      "id": "o1ShusacjOmt"
    },
    {
      "cell_type": "code",
      "source": [
        "# Ungelöstes Sudoku Matrix erstellen\n",
        "grid = extract_sudoku_digits(img_pt)\n",
        "\n",
        "# Funktion zum Überprüfen von möglichen Werten, die im Sudoku eingesetzt werden sollen.\n",
        "def possible(grid, y, x, n):\n",
        "    for i in range(0, 9):\n",
        "      if grid[y][i] == n:\n",
        "        return False\n",
        "    \n",
        "    for i in range (0, 9):\n",
        "      if grid[i][x] == n:\n",
        "        return False\n",
        "\n",
        "    x0 = (x//3) * 3\n",
        "    y0 = (y//3) * 3\n",
        "    for i in range(0, 3):\n",
        "      for j in range (0,3):\n",
        "        if grid[y0+1][x0+j] == n:\n",
        "          return False\n",
        "\n",
        "    return True\n",
        "\n",
        "\n",
        "# Funktion zum Überprüfen einer Sudoku Matrix auf Zellen mit dem Wert null.\n",
        "def does_not_contain_zero():\n",
        "  for i in range(9):\n",
        "    if 0 in grid[i]:\n",
        "      return False\n",
        "    \n",
        "  return True\n",
        "    \n",
        "\n",
        "\n",
        "# Funktion zum Lösen des Sudokus.\n",
        "def solve():\n",
        "    # Durchlaufe das ganze Sudoku\n",
        "    for y in range(9):\n",
        "      for x in range(9):\n",
        "        # Setze Werte ein, wenn die Zelle den Wert null hat.\n",
        "        if grid[y][x] == 0:\n",
        "          for n in range(1,10):\n",
        "            if possible(grid, y, x, n):\n",
        "              grid[y][x] = n\n",
        "              # Rekursiver Aufruf.\n",
        "              solve()\n",
        "              # Wenn Sudoku gelöst ist.\n",
        "              if does_not_contain_zero():\n",
        "                return\n",
        "\n",
        "              # Zelle wieder auf null setzen\n",
        "              grid[y][x] = 0\n",
        "          return"
      ],
      "metadata": {
        "id": "BELfhMsSWc8x"
      },
      "id": "BELfhMsSWc8x",
      "execution_count": null,
      "outputs": []
    },
    {
      "cell_type": "markdown",
      "source": [
        "## 4.4 Datennachbearbeitung"
      ],
      "metadata": {
        "id": "hvDuokYDjEvo"
      },
      "id": "hvDuokYDjEvo"
    },
    {
      "cell_type": "code",
      "source": [
        "# Funktion zum Finden der leeren Zellen innerhalb des Sudoku Bildes\n",
        "def detect_empty_cell(cell,img):\n",
        "    pos = []\n",
        "    img = cv2.resize(img,(252,252))\n",
        "    img = img[cell[2]+2:cell[3]-3,cell[0]+2:cell[1]-3]\n",
        "    contours,_ = cv2.findContours(img.copy(), cv2.RETR_TREE, cv2.CHAIN_APPROX_SIMPLE)\n",
        "    if len(contours) != 0:\n",
        "\n",
        "        for c in contours:\n",
        "            x,y,w,h = cv2.boundingRect(c)\n",
        "            # Wenn die Kontur sehr groß ist, muss eine Zahl vorliegen.\n",
        "            # Aufgrund der Skalierung des Bildes, müssen die Werte mit neun verrechnet werden.\n",
        "            if (w < 15 and x > 2) and (h < 25 and y > 2):\n",
        "                pos.append((x,y,x+w,y+h))\n",
        "                break\n",
        "    if pos == []:    \n",
        "        return pos\n",
        "    else:\n",
        "        return 0\n",
        "\n",
        "\n",
        "# Funktion zum Platzieren der gelösten Werte in dem Bild des Sudokus\n",
        "def place_sudoku_digits(img_pt, img):\n",
        "    global grid\n",
        "\n",
        "    # Skalierung des Bildes, damit es von allen Packages unterstützt wird.\n",
        "    img_pt = cv2.resize(img_pt, (252, 252))\n",
        "    img_color = cv2.resize(img, (252, 252))\n",
        "    # Herausfinden aller Zellen.\n",
        "    cells = get_cell_positions(img_pt)\n",
        "    n = 9\n",
        "    # cr ist gleich cells reshaped\n",
        "    cr = [cells[i:i + n] for i in range(0, len(cells), n)]\n",
        "\n",
        "    # Löse das Sudoku\n",
        "    solve()\n",
        "\n",
        "    # Durchlaufe alle leeren Zellen\n",
        "    for i in range(len(cr)):\n",
        "        for j in range(len(cr[i])):\n",
        "            # Speichere die Position der Zelle\n",
        "            pos = detect_empty_cell(cr[i][j], img_pt)\n",
        "            # Hole den Wert der Lösung\n",
        "            digit_text = grid[i][j]\n",
        "            # Wenn die Position nicht ein leerer Array ist\n",
        "            if pos == []:\n",
        "                # Setze den Wert der Lösung an der Koordinate in dem Bild ein.\n",
        "                cv2.putText(img_color, str(digit_text), ((cr[i][j][0] + 8), (cr[i][j][2] + 19)),\n",
        "                            cv2.FONT_HERSHEY_SIMPLEX, 0.7, (255, 0, 0), 2, cv2.LINE_AA)\n",
        "            # Ansonsten    \n",
        "            else:\n",
        "                # Überspringe und fahre fort.\n",
        "                continue\n",
        "\n",
        "    # Speichere das Bild des gelösten Sudokus.\n",
        "    res_img = cv2.imwrite(\"/content/drive/MyDrive/Colab/FSP/output/result.png\", img_color)\n",
        "\n",
        "    # Gebe das Bild des gelösten Sudokus zurück.\n",
        "    return res_img"
      ],
      "metadata": {
        "id": "RafSBUmtWn3w"
      },
      "id": "RafSBUmtWn3w",
      "execution_count": null,
      "outputs": []
    },
    {
      "cell_type": "code",
      "source": [
        "place_sudoku_digits(img_pt, img)"
      ],
      "metadata": {
        "colab": {
          "base_uri": "https://localhost:8080/"
        },
        "id": "BNkXSsXhW1S2",
        "outputId": "61a45fc0-5a84-40f9-a5fe-d6ad2513918a"
      },
      "id": "BNkXSsXhW1S2",
      "execution_count": null,
      "outputs": [
        {
          "output_type": "stream",
          "name": "stdout",
          "text": [
            "[[5 3 4 6 7 8 9 1 2]\n",
            " [6 2 7 1 9 5 3 4 8]\n",
            " [1 9 8 3 4 2 5 6 7]\n",
            " [8 5 2 7 6 1 4 9 3]\n",
            " [4 7 9 8 5 3 6 2 1]\n",
            " [7 1 3 9 2 4 8 5 6]\n",
            " [9 6 1 5 3 7 2 8 4]\n",
            " [2 8 6 4 1 9 7 3 5]\n",
            " [3 4 5 2 8 6 1 7 9]]\n",
            "5\n",
            "3\n",
            "4\n",
            "6\n",
            "7\n",
            "8\n",
            "9\n",
            "1\n",
            "2\n",
            "6\n",
            "2\n",
            "7\n",
            "1\n",
            "9\n",
            "5\n",
            "3\n",
            "4\n",
            "8\n",
            "1\n",
            "9\n",
            "8\n",
            "3\n",
            "4\n",
            "2\n",
            "5\n",
            "6\n",
            "7\n",
            "8\n",
            "5\n",
            "2\n",
            "7\n",
            "6\n",
            "1\n",
            "4\n",
            "9\n",
            "3\n",
            "4\n",
            "7\n",
            "9\n",
            "8\n",
            "5\n",
            "3\n",
            "6\n",
            "2\n",
            "1\n",
            "7\n",
            "1\n",
            "3\n",
            "9\n",
            "2\n",
            "4\n",
            "8\n",
            "5\n",
            "6\n",
            "9\n",
            "6\n",
            "1\n",
            "5\n",
            "3\n",
            "7\n",
            "2\n",
            "8\n",
            "4\n",
            "2\n",
            "8\n",
            "6\n",
            "4\n",
            "1\n",
            "9\n",
            "7\n",
            "3\n",
            "5\n",
            "3\n",
            "4\n",
            "5\n",
            "2\n",
            "8\n",
            "6\n",
            "1\n",
            "7\n",
            "9\n"
          ]
        },
        {
          "output_type": "execute_result",
          "data": {
            "text/plain": [
              "True"
            ]
          },
          "metadata": {},
          "execution_count": 172
        }
      ]
    },
    {
      "cell_type": "markdown",
      "id": "4a411773",
      "metadata": {
        "id": "4a411773"
      },
      "source": [
        "# 5. Bewertung"
      ]
    },
    {
      "cell_type": "markdown",
      "id": "a2a1a06e",
      "metadata": {
        "id": "a2a1a06e"
      },
      "source": [
        "##5.1 Beschreibung der erreichten Ziele im Kontext der Anforderungen\n",
        "Alle Ziele im Rahmen dieses Projektes wurden erfolgreich bewältigt. Alle Meilensteine sowie das konkrete Endziel wurden erreicht. Dazu zählen:\n",
        "\n",
        "*   Einlesen eines Sudokus in Bildform\n",
        "*   Vorverarbeitung\n",
        "*   Erstellen eines NN\n",
        "*   Lösen des Sudokus\n",
        "*   Ausgabe des gelösten Sudokus in Bildform\n",
        "\n",
        "Allerdings gilt es anzumerken, dass je nach Qualität des Bildes, die Ziele aufgrund von falscher Vorhersage der handgeschriebenen Zahlen nicht erfüllt werden. Dies liegt nur vor, wenn das Bild verschwommen ist oder anderweitig schlechte Qualität aufweist. Als Beispiel für einen solchen Fall steht das Bild \"sudoku-01.png\"."
      ]
    },
    {
      "cell_type": "markdown",
      "id": "c835274a",
      "metadata": {
        "id": "c835274a"
      },
      "source": [
        "#6. Zusammenfassung\n",
        "Im Rahmen dieser wissenschaftlichen Arbeit wurde erfolgreich eine Methodik zum Einlesen von Sudoku Bildern, lösen des Sudokus und Ausgabe des gelösten Sudokus in Bildform entwickelt. Dafür wurde ein neuronales Netz trainiert, welches auf dem MNIST Dataset von Keras beruht. Das neuronale Netz sagt voraus, welche handgeschriebenen Zahlen auf einem Bild zu sehen sind. Damit ermöglicht es das Erstellen einer Matrix für das Sudoku. Des Weiteren wurde der Backtracking Algorithmus verwendet, um diese Matrix gemäß der Regeln zum Lösen eines Sudokus zu lösen. Im letzten Schritt konnte die gelöste Matrix erfolgreich mit dem Bild des Sudokus zusammengeführt werden.\n",
        "\n",
        "Zur Erreichung der Ziele wurde Python verwendet. Des Weiteren wurde Gebrauch von verschiedenen Python Packages wie Tensorflow, Keras, OpenCV, Numpy, Pandas, sklearn, Seabor und matplotlib gemacht. Im Rahmen der Nutzung von Google Colab wurde ebenfalls ein Package von Google Colab zum Verknüpfen des persönlichen Google Drives verwendet. Dies ist allerdings optional und kann durch Pfadänderungen umgeschrieben werden, damit beispielsweise lokale Daten eingelesen werden."
      ]
    },
    {
      "cell_type": "markdown",
      "id": "28bbe874",
      "metadata": {
        "id": "28bbe874"
      },
      "source": [
        "# Literatur\n",
        "Adewumi, Joseph (2021): Solving a Sudoku Puzzle using Deep Learning and Backtracking Algorithm, Medium, [online] https://levelup.gitconnected.com/solving-a-sudoku-puzzle-using-deep-learning-and-backtracking-algorithm-c6cef475ae3 [abgerufen am 07.03.2022].\n",
        "\n",
        "<br>\n",
        "\n",
        "Automatisierte Bilderkennung: So erleichtert KI die Klassifizierung von Produkten (o. D.): etailment.de, [online] https://etailment.de/news/stories/Automatisierte-Bilderkennung-So-erleichtert-KI-die-Klassifizierung-von-Produkten-23374 [abgerufen am 07.03.2022].\n",
        "\n",
        "</br>\n",
        "\n",
        "Computerphile/Thorsten Altenkirch (2020): Python Sudoku Solver - Computerphile, YouTube, [online] https://www.youtube.com/watch?v=G_UYXzGuqvM [abgerufen am 08.03.2022].\n",
        "\n",
        "<br>\n",
        "\n",
        "Daityari, Shaumik (2021): A Beginner’s Guide to Keras: Digit Recognition in 30 Minutes - SitePoint, sitepoint, [online] https://www.sitepoint.com/keras-digit-recognition-tutorial/ [abgerufen am 07.03.2022].\n",
        "\n",
        "</br>\n",
        "\n",
        "Education, Ibm Cloud (2021): Deep Learning, IBM, [online] https://www.ibm.com/cloud/learn/deep-learning [abgerufen am 07.03.2022].\n",
        "\n",
        "<br>\n",
        "\n",
        "Osterkamp, Catharina (2021): Wie funktioniert automatische Bilderkennung? - Netzpiloten.de, Netzpiloten Magazin, [online] https://www.netzpiloten.de/wie-funktioniert-automatische-bilderkennung/ [abgerufen am 07.03.2022].\n",
        "\n",
        "<br>\n",
        "\n",
        "Sudoku Rules for Complete Beginners | Play Free Sudoku, a Popular Online Puzzle Game (o. D.): Sudoku.com, [online] https://sudoku.com/how-to-play/sudoku-rules-for-complete-beginners/ [abgerufen am 07.03.2022]."
      ]
    }
  ],
  "metadata": {
    "kernelspec": {
      "display_name": "Python 3",
      "language": "python",
      "name": "python3"
    },
    "language_info": {
      "codemirror_mode": {
        "name": "ipython",
        "version": 3
      },
      "file_extension": ".py",
      "mimetype": "text/x-python",
      "name": "python",
      "nbconvert_exporter": "python",
      "pygments_lexer": "ipython3",
      "version": "3.8.8"
    },
    "colab": {
      "provenance": []
    }
  },
  "nbformat": 4,
  "nbformat_minor": 5
}